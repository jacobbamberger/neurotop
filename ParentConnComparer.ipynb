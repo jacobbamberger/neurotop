{
 "cells": [
  {
   "cell_type": "markdown",
   "metadata": {},
   "source": [
    "In this notebook we reproduce experiments from Section 4.2 in Jacob's write up. We check and analyze if connection between parents impact the entropy of the child. 3 parent connection types are considered: no connections, simplex connections and full connections (including loops)."
   ]
  },
  {
   "cell_type": "code",
   "execution_count": 1,
   "metadata": {},
   "outputs": [],
   "source": [
    "# imports\n",
    "%matplotlib inline\n",
    "from brian2 import *\n",
    "import dit\n",
    "from mpl_toolkits.mplot3d import Axes3D\n",
    "import numpy as np\n",
    "\n",
    "import gen_connections\n",
    "import simulation\n",
    "import new_it_analyzer\n"
   ]
  },
  {
   "cell_type": "markdown",
   "metadata": {},
   "source": [
    "First generate the experiment, each box correspond to one parent connection type."
   ]
  },
  {
   "cell_type": "code",
   "execution_count": 40,
   "metadata": {},
   "outputs": [],
   "source": [
    "#To run this script, you need to have a folder at location PATH_TO_DIR available, \n",
    "#and it must contain a 'raster' folder as well. The simulations take a while, \n",
    "#reduce N_MONTE_CARLO to make it faster bu less stable. \n",
    "\n",
    "PATH_TO_DIR = f'observations/entropy_and_parents/disconnected/'\n",
    "N_MONTE_CARLO = 500\n",
    "disconnected_xaxis = list(range(1,20))+list(np.arange(21,200, 10))\n",
    "\n",
    "#Star shapped directed inwards. For each parent neuron, one synapse is pointing towards the child indexed by 0.\n",
    "for nb_parents in disconnected_xaxis:\n",
    "    nb_neurons=nb_parents+1\n",
    "    synapse_weight=10\n",
    "    pre_syn=[i for i in range(1, nb_parents+1)]\n",
    "    pos_syn=[0 for x in pre_syn]\n",
    "    \n",
    "    #First initialize, then simulate, then make raster plot.\n",
    "    ex=simulation.Simulation(nb_neurons, 10, 50, pre_syn, pos_syn, 'parents_{}_child_1'.format(nb_parents), stim='off')\n",
    "    ex.simulate(N_MONTE_CARLO, PATH_TO_DIR)\n",
    "    ex.run_and_plot_example_raster(PATH_TO_DIR+'raster/')\n",
    "    \n",
    "\n",
    "#If you run this several time, try to remember which nb_parents you ran! \n",
    "#To not do the same experiment twice, and to plot things more easily\n",
    "disconnected_xaxis = list(range(1,20))+list(np.arange(21,200, 5))"
   ]
  },
  {
   "cell_type": "code",
   "execution_count": 11,
   "metadata": {},
   "outputs": [],
   "source": [
    "#same but simplex connection\n",
    "\n",
    "#To run this script, you need to have a folder at location PATH_TO_DIR available, \n",
    "#and it must contain a 'raster' folder as well.\n",
    "\n",
    "PATH_TO_DIR = f'observations/entropy_and_parents/simplex/'\n",
    "N_MONTE_CARLO = 500\n",
    "simplex_xaxis = np.arange(1, 200, 10)\n",
    "np.arange(101, 200, 5)#np.arange(1,100,5)\n",
    "\n",
    "#Star shapped directed inwards. For each parent neuron, one synapse is pointing towards the child indexed by 0.\n",
    "for nb_parents in simplex_xaxis:\n",
    "    nb_neurons=nb_parents+1\n",
    "    synapse_weight=10\n",
    "    \n",
    "    #for parent child connections\n",
    "    pre_syn=[i for i in range(1, nb_parents+1)] \n",
    "    pos_syn=[0 for x in pre_syn]\n",
    "    \n",
    "    #for inter-parent connections\n",
    "    simplex_pre_syn, simplex_pos_syn = gen_connections.simplex(nb_parents) #for parent parent connec\n",
    "    pre_syn+=[x+1 for x in simplex_pre_syn]\n",
    "    pos_syn+=[x+1 for x in simplex_pos_syn]\n",
    "    \n",
    "    ex=simulation.Simulation(nb_neurons, 10, 50, pre_syn, pos_syn, 'parents_{}_child_1'.format(nb_parents), stim='off')\n",
    "    ex.simulate(N_MONTE_CARLO, PATH_TO_DIR)\n",
    "    ex.run_and_plot_example_raster(PATH_TO_DIR+'raster/')\n",
    "    \n",
    "\n",
    "#If you run this several time, try to remember which nb_parents you ran!\n",
    "#To not do the same experiment twice, and to plot things more easily\n",
    "simplex_xaxis= np.arange(1, 200, 10)"
   ]
  },
  {
   "cell_type": "code",
   "execution_count": 15,
   "metadata": {},
   "outputs": [],
   "source": [
    "#same but full connection\n",
    "\n",
    "#To run this script, you need to have a folder at location PATH_TO_DIR available, \n",
    "#and it must contain a 'raster' folder as well.\n",
    "\n",
    "PATH_TO_DIR = f'observations/entropy_and_parents/full/'\n",
    "N_MONTE_CARLO = 500\n",
    "#full_xaxis = list(range(1,30))+list(np.arange(30,100,5))\n",
    "full_xaxis = np.arange(100,200, 10)\n",
    "\n",
    "\n",
    "#Star shapped directed inwards. For each parent neuron, one synapse is pointing towards the child indexed by 0.\n",
    "for nb_parents in full_xaxis:\n",
    "    nb_neurons=nb_parents+1\n",
    "    synapse_weight=10\n",
    "    \n",
    "    #for parent child connections\n",
    "    pre_syn=[i for i in range(1, nb_parents+1)] \n",
    "    pos_syn=[0 for x in pre_syn]\n",
    "    \n",
    "    #for inter-parent connections\n",
    "    full_pre_syn, full_pos_syn = gen_connections.full(nb_parents) \n",
    "    pre_syn+=[x+1 for x in full_pre_syn]\n",
    "    pos_syn+=[x+1 for x in full_pos_syn]\n",
    "    \n",
    "    ex=simulation.Simulation(nb_neurons, 10, 50, pre_syn, pos_syn, 'parents_{}_child_1'.format(nb_parents), stim='off')\n",
    "    ex.simulate(N_MONTE_CARLO, PATH_TO_DIR)\n",
    "    ex.run_and_plot_example_raster(PATH_TO_DIR+'raster/')\n",
    "    "
   ]
  },
  {
   "cell_type": "code",
   "execution_count": 39,
   "metadata": {},
   "outputs": [],
   "source": [
    "#same but tori connection\n",
    "\n",
    "#To run this script, you need to have a folder at location PATH_TO_DIR available, \n",
    "#and it must contain a 'raster' folder as well.\n",
    "\n",
    "PATH_TO_DIR = f'observations/entropy_and_parents/torus/'\n",
    "N_MONTE_CARLO = 500\n",
    "torus_xaxis=[x*x for x in np.arange(1,20,1)]\n",
    "\n",
    "#Star shapped directed inwards. For each parent neuron, one synapse is pointing towards the child indexed by 0.\n",
    "for nb_parents in np.arange(10,20,1):\n",
    "    nb_neurons=nb_parents*nb_parents+1\n",
    "    synapse_weight=10\n",
    "    \n",
    "    #for parent child connections\n",
    "    pre_syn=[i for i in range(1, nb_parents*nb_parents+1)] #for parent child conn\n",
    "    pos_syn=[0 for x in pre_syn]\n",
    "    \n",
    "    #for inter-parent connections\n",
    "    tori_pre_syn, tori_pos_syn = gen_connections.torus(nb_parents, nb_parents) \n",
    "    pre_syn+=[x+1 for x in tori_pre_syn]\n",
    "    pos_syn+=[x+1 for x in tori_pos_syn]\n",
    "    \n",
    "    ex=simulation.Simulation(nb_neurons, 10, 50, pre_syn, pos_syn, 'parents_{}_child_1'.format(nb_parents*nb_parents), stim='off')\n",
    "    ex.simulate(N_MONTE_CARLO, PATH_TO_DIR)\n",
    "    ex.run_and_plot_example_raster(PATH_TO_DIR+'raster/')\n",
    "    \n",
    "\n",
    "    "
   ]
  },
  {
   "cell_type": "markdown",
   "metadata": {},
   "source": [
    "Now we plot some information measures. An example is Figure 7 in Section 4.2."
   ]
  },
  {
   "cell_type": "code",
   "execution_count": 6,
   "metadata": {},
   "outputs": [],
   "source": [
    "#These are the methods we use to plot things: \n",
    "def generate_child_entropy(connection_type, xaxis):\n",
    "    PATH_TO_DIR = 'observations/entropy_and_parents/'+connection_type+'/'\n",
    "    analyzs=[new_it_analyzer.IT_analyzer(PATH_TO_DIR+'parents_{}_child_1_nb_neur_{}_sw_10_tbs_50_stim_off'.format(i, i+1)) for i in xaxis]\n",
    "    child_entropy=[np.mean([dit.shannon.entropy(d, [0], rv_mode='indices') for d in analyz.dists]) for analyz in analyzs]\n",
    "    return child_entropy\n",
    "\n",
    "def get_mean_firing_child(connection_type, xaxis):\n",
    "    PATH_TO_DIR = 'observations/entropy_and_parents/'+connection_type+'/'\n",
    "    analyzs=[new_it_analyzer.IT_analyzer(PATH_TO_DIR+'parents_{}_child_1_nb_neur_{}_sw_10_tbs_50_stim_off'.format(i, i+1)) for i in xaxis]\n",
    "    means=[np.mean([get_mean(d)[0] for d in analyz.dists]) for analyz in analyzs ]\n",
    "    return means\n",
    "    \n",
    "\n",
    "def get_mean(dist):\n",
    "    mean=0\n",
    "    for outcome in dist.outcomes:\n",
    "        mean+=dist[outcome]*np.array(outcome)\n",
    "    return mean\n",
    "\n",
    "def generate_system_entropy(connection_type, xaxis):\n",
    "    PATH_TO_DIR = 'observations/entropy_and_parents/'+connection_type+'/'\n",
    "    analyzs=[new_it_analyzer.IT_analyzer(PATH_TO_DIR+'parents_{}_child_1_nb_neur_{}_sw_10_tbs_50_stim_off'.format(i, i+1)) for i in xaxis]\n",
    "    system_entropy=[np.mean([dit.shannon.entropy(d, list(range(1,analyz.nb_neurons)), rv_mode='indices') for d in analyz.dists]) for analyz in analyzs]\n",
    "    return system_entropy"
   ]
  },
  {
   "cell_type": "code",
   "execution_count": 4,
   "metadata": {},
   "outputs": [
    {
     "data": {
      "text/plain": [
       "<matplotlib.legend.Legend at 0x14bbef978>"
      ]
     },
     "execution_count": 4,
     "metadata": {},
     "output_type": "execute_result"
    },
    {
     "data": {
      "image/png": "[encoded data removed]",
      "text/plain": [
       "<Figure size 432x288 with 1 Axes>"
      ]
     },
     "metadata": {
      "needs_background": "light"
     },
     "output_type": "display_data"
    }
   ],
   "source": [
    "#here we plot. This will take a while\n",
    "disconnected_xaxis = list(range(1,20))+list(np.arange(21,200, 5))\n",
    "torus_xaxis=[x*x for x in np.arange(1,15,1)]\n",
    "simplex_xaxis = np.arange(1,200,5)\n",
    "full_xaxis = list(range(1,30))+list(np.arange(31,100,5))+list(np.arange(100,200, 10))\n",
    "full_no_loops_xaxis = list(np.arange(1,20, 1))+list(np.arange(30,60,5))\n",
    "\n",
    "\n",
    "plt.title('Entropy of child by nb of parents for different types of connections')\n",
    "\n",
    "\n",
    "plt.plot(disconnected_xaxis, generate_child_entropy('disconnected', disconnected_xaxis), 'gs-', label = 'disconnected')\n",
    "plt.plot(simplex_xaxis, generate_child_entropy('simplex', simplex_xaxis), 'bo-', label = 'simplex')\n",
    "plt.plot(full_xaxis, generate_child_entropy('full', full_xaxis), 'ro-', label = 'full')\n",
    "plt.plot(torus_xaxis, generate_child_entropy('torus', torus_xaxis), 'ys-', label = 'torus' )\n",
    "\n",
    "\n",
    "plt.ylabel('Entropy of neighb')\n",
    "plt.xlabel('Nb of parents')\n",
    "\n",
    "plt.legend()"
   ]
  },
  {
   "cell_type": "code",
   "execution_count": 5,
   "metadata": {},
   "outputs": [
    {
     "data": {
      "text/plain": [
       "<matplotlib.legend.Legend at 0x11e194048>"
      ]
     },
     "execution_count": 5,
     "metadata": {},
     "output_type": "execute_result"
    },
    {
     "data": {
      "image/png": "[encoded data removed]",
      "text/plain": [
       "<Figure size 432x288 with 1 Axes>"
      ]
     },
     "metadata": {
      "needs_background": "light"
     },
     "output_type": "display_data"
    }
   ],
   "source": [
    "#here we plot the mean spike count as a function of nb parents for diff conn types\n",
    "disconnected_xaxis = list(range(1,20))+list(np.arange(21,200, 5))\n",
    "torus_xaxis=[x*x for x in np.arange(1,20,1)]\n",
    "simplex_xaxis = np.arange(1,100,5)\n",
    "full_xaxis = list(range(1,30))+list(np.arange(31,100,5))\n",
    "\n",
    "\n",
    "plt.title('Mean spike count child by nb of parents for different types of connections')\n",
    "\n",
    "plt.plot(disconnected_xaxis, get_mean_firing_child('disconnected', disconnected_xaxis), 'gs-', label = 'disconnected')\n",
    "plt.plot(simplex_xaxis, get_mean_firing_child('simplex', simplex_xaxis), 'bo-', label = 'simplex')\n",
    "plt.plot(full_xaxis, get_mean_firing_child('full', full_xaxis), 'ro-', label = 'full')\n",
    "plt.plot(torus_xaxis, get_mean_firing_child('torus', torus_xaxis), 'ys-', label = 'torus' )\n",
    "\n",
    "\n",
    "plt.ylabel('Average nb of spikes per time bin')\n",
    "plt.xlabel('Nb of parents')\n",
    "\n",
    "plt.legend()"
   ]
  }
 ],
 "metadata": {
  "kernelspec": {
   "display_name": "Python 3",
   "language": "python",
   "name": "python3"
  },
  "language_info": {
   "codemirror_mode": {
    "name": "ipython",
    "version": 3
   },
   "file_extension": ".py",
   "mimetype": "text/x-python",
   "name": "python",
   "nbconvert_exporter": "python",
   "pygments_lexer": "ipython3",
   "version": "3.7.2"
  }
 },
 "nbformat": 4,
 "nbformat_minor": 4
}
