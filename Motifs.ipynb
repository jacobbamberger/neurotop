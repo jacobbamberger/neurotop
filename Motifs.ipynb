{
 "cells": [
  {
   "cell_type": "markdown",
   "metadata": {},
   "source": [
    "This notebook is not as well documented. It corresponds to Section 4.4 in Jacob's report, and the study of three neuron motifs."
   ]
  },
  {
   "cell_type": "code",
   "execution_count": 1,
   "metadata": {},
   "outputs": [],
   "source": [
    "# imports\n",
    "%matplotlib inline\n",
    "from brian2 import *\n",
    "import dit\n",
    "from mpl_toolkits.mplot3d import Axes3D\n",
    "import numpy as np\n",
    "\n",
    "import gen_connections\n",
    "import simulation\n",
    "import new_it_analyzer"
   ]
  },
  {
   "cell_type": "code",
   "execution_count": null,
   "metadata": {},
   "outputs": [],
   "source": [
    "#These generate the networks of motifs without the parents. \n",
    "#Make sure the directories exist prior to running this.\n",
    "\n",
    "possible_con_3_neur=[([0],[1]), ([0, 1], [1, 0]), ([0, 1],[1, 2]), ([0, 2], [1, 1]), ([1, 1], [0, 2]), ([0, 1, 1],[1, 0, 2]), ([0, 1, 2], [1, 0, 1]), ([0, 0, 1], [1,2, 2]), ([0, 1, 2], [1, 2, 0]), ([0, 1, 1, 2], [1, 0, 2, 1]), ([0, 1, 1, 2], [1, 0, 2, 0]), ([0, 0, 1, 1], [1, 2, 0, 2]), ([0, 1, 2,2], [1, 0, 0, 1]), ([0, 1, 1, 2, 2], [1, 0, 2, 0, 1]), ([0,0,1,1,2,2], [1,2,0,2,0,1])]\n",
    "\n",
    "for graph_type in range(len(possible_con_3_neur)):\n",
    "    print(f'graph type=={graph_type}')\n",
    "    PATH_TO_DIR = f'observations/motifs/no_parents/'\n",
    "    #n common parents, no connections:\n",
    "    synapse_weight=10\n",
    "    pre_syn=[]\n",
    "    post_syn=[]\n",
    "    pre_syn=possible_con_3_neur[graph_type][0]\n",
    "    post_syn=possible_con_3_neur[graph_type][1]\n",
    "    ex=simulation.Simulation(3, synapse_weight, 50, pre_syn, post_syn, 'graph_type_{}'.format(graph_type))\n",
    "    ex.run_and_plot_example_raster(PATH_TO_DIR+'raster/')\n",
    "    ex.simulate(500, PATH_TO_DIR)"
   ]
  },
  {
   "cell_type": "code",
   "execution_count": 24,
   "metadata": {},
   "outputs": [
    {
     "name": "stdout",
     "output_type": "stream",
     "text": [
      "graph type==8\n",
      "graph type==9\n",
      "graph type==10\n",
      "graph type==11\n",
      "graph type==12\n",
      "graph type==13\n",
      "graph type==14\n"
     ]
    }
   ],
   "source": [
    "#Motifs with disconnected parents\n",
    "possible_con_3_neur=[([0],[1]), ([0, 1], [1, 0]), ([0, 1],[1, 2]), ([0, 2], [1, 1]), ([1, 1], [0, 2]), ([0, 1, 1],[1, 0, 2]), ([0, 1, 2], [1, 0, 1]), ([0, 0, 1], [1,2, 2]), ([0, 1, 2], [1, 2, 0]), ([0, 1, 1, 2], [1, 0, 2, 1]), ([0, 1, 1, 2], [1, 0, 2, 0]), ([0, 0, 1, 1], [1, 2, 0, 2]), ([0, 1, 2,2], [1, 0, 0, 1]), ([0, 1, 1, 2, 2], [1, 0, 2, 0, 1]), ([0,0,1,1,2,2], [1,2,0,2,0,1])]\n",
    "\n",
    "disconnected_xaxis=list(range(1,20))+list(np.arange(20,40,2))+list(np.arange(40, 150, 10))\n",
    "\n",
    "for graph_type in range(1, len(possible_con_3_neur)):\n",
    "    print(f'graph type=={graph_type}')\n",
    "    PATH_TO_DIR = f'observations/motifs/disconnected_parents/'\n",
    "    for nb_parents in disconnected_xaxis:\n",
    "        nb_neurons=nb_parents+3\n",
    "        synapse_weight=10\n",
    "        pre_syn=possible_con_3_neur[graph_type][0] #children conn\n",
    "        pos_syn=possible_con_3_neur[graph_type][1]\n",
    "        \n",
    "        \n",
    "        pre_syn+=[i for i in range(3, nb_parents+3)] #first child\n",
    "        pre_syn+=[i for i in range(3, nb_parents+3)]#second \n",
    "        pre_syn+=[i for i in range(3, nb_parents+3)] #third\n",
    "        \n",
    "        pos_syn+=[0 for x in range(3, nb_parents+3)]\n",
    "        pos_syn+=[1 for x in range(3, nb_parents+3)] #second child\n",
    "        pos_syn+=[2 for x in range(3, nb_parents+3)] #third\n",
    "        \n",
    "        ex=simulation.Simulation(nb_neurons, 10, 50, pre_syn, pos_syn, 'type_{}_parents_{}_child_3'.format(graph_type, nb_parents), stim='off')\n",
    "        ex.simulate(500, PATH_TO_DIR)\n",
    "        ex.run_and_plot_example_raster(PATH_TO_DIR+'raster/')\n"
   ]
  },
  {
   "cell_type": "code",
   "execution_count": 99,
   "metadata": {},
   "outputs": [
    {
     "name": "stdout",
     "output_type": "stream",
     "text": [
      "graph type==0\n",
      "graph type==1\n",
      "graph type==2\n",
      "graph type==3\n",
      "graph type==4\n",
      "graph type==5\n",
      "graph type==6\n",
      "graph type==7\n",
      "graph type==8\n",
      "graph type==9\n",
      "graph type==10\n",
      "graph type==11\n",
      "graph type==12\n",
      "graph type==13\n",
      "graph type==14\n"
     ]
    }
   ],
   "source": [
    "#Motifs with simplex parents\n",
    "\n",
    "possible_con_3_neur=[([0],[1]), ([0, 1], [1, 0]), ([0, 1],[1, 2]), ([0, 2], [1, 1]), ([1, 1], [0, 2]), ([0, 1, 1],[1, 0, 2]), ([0, 1, 2], [1, 0, 1]), ([0, 0, 1], [1,2, 2]), ([0, 1, 2], [1, 2, 0]), ([0, 1, 1, 2], [1, 0, 2, 1]), ([0, 1, 1, 2], [1, 0, 2, 0]), ([0, 0, 1, 1], [1, 2, 0, 2]), ([0, 1, 2,2], [1, 0, 0, 1]), ([0, 1, 1, 2, 2], [1, 0, 2, 0, 1]), ([0,0,1,1,2,2], [1,2,0,2,0,1])]\n",
    "\n",
    "xaxis=np.arange(1,20, 2)#list(range(1,40,5))+list(np.arange(40, 150, 10))\n",
    "\n",
    "for graph_type in range(len(possible_con_3_neur)):\n",
    "    print(f'graph type=={graph_type}')\n",
    "    #Star shapped directed inwards. For each parent neuron, one synapse is pointing towards the child indexed by 0.\n",
    "    PATH_TO_DIR = f'observations/motifs/simplex_parents/'\n",
    "    for nb_parents in xaxis:\n",
    "        nb_neurons=nb_parents+3\n",
    "        synapse_weight=10\n",
    "        pre_syn=possible_con_3_neur[graph_type][0] #children conn\n",
    "        pos_syn=possible_con_3_neur[graph_type][1]\n",
    "        \n",
    "        pre_syn+=[i for i in range(3, nb_parents+3)] #first child\n",
    "        pre_syn+=[i for i in range(3, nb_parents+3)]#second \n",
    "        pre_syn+=[i for i in range(3, nb_parents+3)] #third\n",
    "        \n",
    "        pos_syn+=[0 for x in range(3, nb_parents+3)]\n",
    "        pos_syn+=[1 for x in range(3, nb_parents+3)] #second child\n",
    "        pos_syn+=[2 for x in range(3, nb_parents+3)] #third\n",
    "        \n",
    "        simplex_pre_syn, simplex_pos_syn = gen_connections.simplex(nb_parents) #for parent parent connec\n",
    "        pre_syn+=[x+3 for x in simplex_pre_syn]\n",
    "        pos_syn+=[x+3 for x in simplex_pos_syn]\n",
    "        \n",
    "        ex=simulation.Simulation(nb_neurons, 10, 50, pre_syn, pos_syn, 'type_{}_parents_{}_child_3'.format(graph_type, nb_parents), stim='off')\n",
    "        ex.simulate(500, PATH_TO_DIR)\n",
    "        ex.run_and_plot_example_raster(PATH_TO_DIR+'raster/')\n"
   ]
  },
  {
   "cell_type": "code",
   "execution_count": 25,
   "metadata": {},
   "outputs": [
    {
     "name": "stdout",
     "output_type": "stream",
     "text": [
      "graph type==0\n",
      "graph type==1\n",
      "graph type==2\n",
      "graph type==3\n",
      "graph type==4\n",
      "graph type==5\n",
      "graph type==6\n",
      "graph type==7\n",
      "graph type==8\n",
      "graph type==9\n",
      "graph type==10\n",
      "graph type==11\n",
      "graph type==12\n",
      "graph type==13\n",
      "graph type==14\n"
     ]
    }
   ],
   "source": [
    "#Motifs with full parents\n",
    "\n",
    "possible_con_3_neur=[([0],[1]), ([0, 1], [1, 0]), ([0, 1],[1, 2]), ([0, 2], [1, 1]), ([1, 1], [0, 2]), ([0, 1, 1],[1, 0, 2]), ([0, 1, 2], [1, 0, 1]), ([0, 0, 1], [1,2, 2]), ([0, 1, 2], [1, 2, 0]), ([0, 1, 1, 2], [1, 0, 2, 1]), ([0, 1, 1, 2], [1, 0, 2, 0]), ([0, 0, 1, 1], [1, 2, 0, 2]), ([0, 1, 2,2], [1, 0, 0, 1]), ([0, 1, 1, 2, 2], [1, 0, 2, 0, 1]), ([0,0,1,1,2,2], [1,2,0,2,0,1])]\n",
    "\n",
    "xaxis=list(range(1,40,5))+list(np.arange(40, 150, 10))\n",
    "\n",
    "for graph_type in range(len(possible_con_3_neur)):\n",
    "    print(f'graph type=={graph_type}')\n",
    "    #Star shapped directed inwards. For each parent neuron, one synapse is pointing towards the child indexed by 0.\n",
    "    PATH_TO_DIR = f'observations/motifs/full_parents/'\n",
    "    for nb_parents in xaxis:\n",
    "        nb_neurons=nb_parents+3\n",
    "        synapse_weight=10\n",
    "        pre_syn=possible_con_3_neur[graph_type][0] #children conn\n",
    "        pos_syn=possible_con_3_neur[graph_type][1]\n",
    "        \n",
    "        pre_syn+=[i for i in range(3, nb_parents+3)] #first child\n",
    "        pre_syn+=[i for i in range(3, nb_parents+3)]#second \n",
    "        pre_syn+=[i for i in range(3, nb_parents+3)] #third\n",
    "        \n",
    "        pos_syn+=[0 for x in range(3, nb_parents+3)]\n",
    "        pos_syn+=[1 for x in range(3, nb_parents+3)] #second child\n",
    "        pos_syn+=[2 for x in range(3, nb_parents+3)] #third\n",
    "        \n",
    "        full_pre_syn, full_pos_syn = gen_connections.full(nb_parents) #for parent parent connec\n",
    "        pre_syn+=[x+3 for x in full_pre_syn]\n",
    "        pos_syn+=[x+3 for x in full_pos_syn]\n",
    "        \n",
    "        ex=simulation.Simulation(nb_neurons, 10, 50, pre_syn, pos_syn, 'type_{}_parents_{}_child_3'.format(graph_type, nb_parents), stim='off')\n",
    "        ex.simulate(500, PATH_TO_DIR)\n",
    "        ex.run_and_plot_example_raster(PATH_TO_DIR+'raster/')\n",
    "    full_pre_syn, full_pos_syn = gen_connections.full(nb_parents) #for parent parent connec\n"
   ]
  },
  {
   "cell_type": "code",
   "execution_count": null,
   "metadata": {},
   "outputs": [],
   "source": [
    "#Motifs with torus parents\n",
    "\n",
    "\n",
    "possible_con_3_neur=[([0],[1]), ([0, 1], [1, 0]), ([0, 1],[1, 2]), ([0, 2], [1, 1]), ([1, 1], [0, 2]), ([0, 1, 1],[1, 0, 2]), ([0, 1, 2], [1, 0, 1]), ([0, 0, 1], [1,2, 2]), ([0, 1, 2], [1, 2, 0]), ([0, 1, 1, 2], [1, 0, 2, 1]), ([0, 1, 1, 2], [1, 0, 2, 0]), ([0, 0, 1, 1], [1, 2, 0, 2]), ([0, 1, 2,2], [1, 0, 0, 1]), ([0, 1, 1, 2, 2], [1, 0, 2, 0, 1]), ([0,0,1,1,2,2], [1,2,0,2,0,1])]\n",
    "\n",
    "\n",
    "for graph_type in range(len(possible_con_3_neur)):\n",
    "    print(f'graph type=={graph_type}')\n",
    "    #Star shapped directed inwards. For each parent neuron, one synapse is pointing towards the child indexed by 0.\n",
    "    PATH_TO_DIR = f'observations/motifs/torus_parents/'\n",
    "    for nb_parents in range(1,20):\n",
    "        nb_neurons=nb_parents*nb_parents+3\n",
    "        synapse_weight=10\n",
    "        pre_syn=possible_con_3_neur[graph_type][0] #children conn\n",
    "        pos_syn=possible_con_3_neur[graph_type][1]\n",
    "        \n",
    "        pre_syn+=[i for i in range(3, nb_parents*nb_parents+3)] #first child\n",
    "        pre_syn+=[i for i in range(3, nb_parents*nb_parents+3)]#second \n",
    "        pre_syn+=[i for i in range(3, nb_parents*nb_parents+3)] #third\n",
    "        \n",
    "        pos_syn+=[0 for x in range(3, nb_parents*nb_parents+3)]\n",
    "        pos_syn+=[1 for x in range(3, nb_parents*nb_parents+3)] #second child\n",
    "        pos_syn+=[2 for x in range(3, nb_parents*nb_parents+3)] #third\n",
    "        \n",
    "        tori_pre_syn, tori_pos_syn = gen_connections.torus(nb_parents, nb_parents) #for parent parent connec\n",
    "        pre_syn+=[x+3 for x in tori_pre_syn]\n",
    "        pos_syn+=[x+3 for x in tori_pos_syn]\n",
    "        \n",
    "        ex=simulation.Simulation(nb_neurons, 10, 50, pre_syn, pos_syn, 'type_{}_parents_{}_child_3'.format(graph_type, nb_parents), stim='off')\n",
    "        ex.simulate(500, PATH_TO_DIR)\n",
    "        ex.run_and_plot_example_raster(PATH_TO_DIR+'raster/')\n",
    "    full_pre_syn, full_pos_syn = gen_connections.full(nb_parents) #for parent parent connec\n"
   ]
  },
  {
   "cell_type": "markdown",
   "metadata": {},
   "source": [
    "Now we analyze:"
   ]
  },
  {
   "cell_type": "code",
   "execution_count": 27,
   "metadata": {},
   "outputs": [
    {
     "data": {
      "text/plain": [
       "{(0, 1, 2): 3.866,\n",
       " (0, 1): 2.636,\n",
       " (0, 2): 2.641,\n",
       " (1, 2): 2.633,\n",
       " (0,): 1.358,\n",
       " (1,): 1.351,\n",
       " (2,): 1.349,\n",
       " 'co_information': 0.015,\n",
       " 'total_correlation': 0.193,\n",
       " 'dual_total_correlation': 0.178,\n",
       " 'I([0, 1];[2])': 0.12,\n",
       " 'I([0, 2];[1])': 0.126,\n",
       " 'I([1, 2];[0])': 0.125,\n",
       " 'I([0];[1])': 0.073,\n",
       " 'I([0];[2])': 0.067,\n",
       " 'I([1];[2])': 0.068}"
      ]
     },
     "execution_count": 27,
     "metadata": {},
     "output_type": "execute_result"
    }
   ],
   "source": [
    "#This gives the information simplex, in dictionary form. \n",
    "#This was used to generate Figure 15\n",
    "\n",
    "PATH_TO_DIR='observations/motifs/no_parents/'\n",
    "#PATH_TO_DIR='observations/motifs/disconnected_parents/'\n",
    "\n",
    "\n",
    "power_list=[[0,1,2], [0,1], [0,2], [1,2], [0], [1], [2]]\n",
    "#type_vect\n",
    "#for graph_type in range(16):\n",
    "graph_type=14\n",
    "nb_par = 11\n",
    "location=PATH_TO_DIR+'graph_type_{}_nb_neur_3_sw_10_tbs_50_stim_off'.format(graph_type)\n",
    "#location=PATH_TO_DIR+'type_{}_parents_{}_child_3_nb_neur_{}_sw_10_tbs_50_stim_off'.format(graph_type, nb_par, nb_par+3)\n",
    "analyz=new_it_analyzer.IT_analyzer(location)\n",
    "full_three_neuron_analysis(analyz)\n"
   ]
  },
  {
   "cell_type": "code",
   "execution_count": 3,
   "metadata": {},
   "outputs": [],
   "source": [
    "def full_three_neuron_analysis(analyz):\n",
    "    power_list=[[0,1,2], [0,1], [0,2], [1,2], [0], [1], [2]]\n",
    "    dico={}\n",
    "    for lis in power_list:\n",
    "        dico[tuple(lis)]=round(np.mean([dit.shannon.entropy(d, lis, rv_mode='indices') for d in analyz.dists]), 3)\n",
    "\n",
    "    dico['co_information'] = round(np.mean([dit.multivariate.coinformation(d, [[0], [1], [2]], rv_mode='indices') for d in analyz.dists]), 3)\n",
    "    dico['total_correlation'] = round(np.mean([dit.multivariate.total_correlation(d, [[0], [1], [2]], rv_mode='indices') for d in analyz.dists]), 3)\n",
    "    dico['dual_total_correlation']=round(np.mean([dit.multivariate.dual_total_correlation(d, [[0], [1], [2]], rv_mode='indices') for d in analyz.dists]), 3)\n",
    "    for x in range(len(power_list)):\n",
    "        for y in range(x+1, len(power_list)):\n",
    "            #if (not (power_list[x] in power_list[y])) and (not (power_list[y] in power_list[x])):\n",
    "            if not set(power_list[x]).intersection(power_list[y]):\n",
    "                dico['I({};{})'.format(power_list[x], power_list[y])] = round(np.mean([dit.shannon.mutual_information(d, power_list[x], power_list[y], rv_mode='indices') for d in analyz.dists]), 3)\n",
    "    \n",
    "    return dico\n",
    "    "
   ]
  },
  {
   "cell_type": "markdown",
   "metadata": {},
   "source": [
    "The following were not in the report, but the goal was to look at multivariate information measures."
   ]
  },
  {
   "cell_type": "code",
   "execution_count": 10,
   "metadata": {},
   "outputs": [],
   "source": [
    "def plot_evolution(parent_type, graph_type, xaxis):\n",
    "    PATH_TO_DIR='observations/motifs/'+parent_type+'/'\n",
    "    analyzs=[new_it_analyzer.IT_analyzer(PATH_TO_DIR+'type_{}_parents_{}_child_3_nb_neur_{}_sw_10_tbs_50_stim_off'.format(graph_type, i, i+3)) for i in xaxis]\n",
    "    joint_entropies=[np.mean([dit.shannon.entropy(d, [0, 1, 2], rv_mode='indices') for d in analyz.dists]) for analyz in analyzs]\n",
    "\n",
    "    #Mutual Information\n",
    "    co_information=[np.mean([dit.multivariate.coinformation(d, [[0], [1], [2]], rv_mode='indices') for d in analyz.dists]) for analyz in analyzs] #dit.multivariate.coinformation(d, 'XYZ')\n",
    "    \n",
    "    total_correlation=[np.mean([dit.multivariate.total_correlation(d, [[0], [1], [2]], rv_mode='indices') for d in analyz.dists]) for analyz in analyzs] #dit.multivariate.coinformation(d, 'XYZ')\n",
    "    print('total_correlation done 2/6')\n",
    "\n",
    "    dual_total_correlation=[np.mean([dit.multivariate.dual_total_correlation(d, [[0], [1], [2]], rv_mode='indices') for d in analyz.dists]) for analyz in analyzs] #dit.multivariate.coinformation(d, 'XYZ')\n",
    "    print('dual total_correlation done 3/6')\n",
    "\n",
    "    #caekl_mutual_information=[np.mean([dit.multivariate.caekl_mutual_information(d, [[0], [1], [2]], rv_mode='indices') for d in analyzs[i].dists]) for i in range(len(analyzs))] #dit.multivariate.coinformation(d, 'XYZ')\n",
    "    #print('caekl_mutual_information done')\n",
    "\n",
    "    interaction_information=[np.mean([dit.multivariate.interaction_information(d, [[0], [1], [2]], rv_mode='indices') for d in analyz.dists]) for analyz in analyzs] #dit.multivariate.coinformation(d, 'XYZ')\n",
    "    print('interaction_information done')\n",
    "    \n",
    "    plt.title('Cond multi Information measures by nb of common parents')\n",
    "    \n",
    "    plt.plot(xaxis, joint_entropies, 'C4d-', label = 'joint_entropies')\n",
    "\n",
    "    plt.plot(xaxis, co_information, 'gs-', label = 'co_information')\n",
    "    plt.plot(xaxis, total_correlation, 'bo-', label = 'total_correlation')\n",
    "    plt.plot(xaxis, dual_total_correlation, 'ro-', label = 'dual_total_correlation')\n",
    "    plt.plot(xaxis, interaction_information, 'ys-', label = 'interaction_information' )\n",
    "    \n",
    "    \n",
    "    #plt.xticks(np.arange(0,chain_length, 1))\n",
    "    plt.ylabel('Multi entropy')\n",
    "    plt.xlabel('Nb of common parents')\n",
    "    #plt.ylim([0,1.5*m])\n",
    "    plt.legend()\n",
    "\n",
    "    \n"
   ]
  },
  {
   "cell_type": "code",
   "execution_count": 22,
   "metadata": {},
   "outputs": [
    {
     "name": "stdout",
     "output_type": "stream",
     "text": [
      "total_correlation done 2/6\n",
      "dual total_correlation done 3/6\n",
      "interaction_information done\n"
     ]
    },
    {
     "data": {
      "image/png": "[encoded data removed]",
      "text/plain": [
       "<Figure size 432x288 with 1 Axes>"
      ]
     },
     "metadata": {
      "needs_background": "light"
     },
     "output_type": "display_data"
    }
   ],
   "source": [
    "xaxis=list(np.arange(1,20))#+list(np.arange(20,40,2))#+list(np.arange(40, 150, 10))\n",
    "\n",
    "plot_evolution('disconnected_parents', 14, xaxis)"
   ]
  },
  {
   "cell_type": "code",
   "execution_count": 23,
   "metadata": {},
   "outputs": [
    {
     "name": "stdout",
     "output_type": "stream",
     "text": [
      "total_correlation done 2/6\n",
      "dual total_correlation done 3/6\n",
      "interaction_information done\n"
     ]
    },
    {
     "data": {
      "image/png": "[encoded data removed]",
      "text/plain": [
       "<Figure size 432x288 with 1 Axes>"
      ]
     },
     "metadata": {
      "needs_background": "light"
     },
     "output_type": "display_data"
    }
   ],
   "source": [
    "xaxis=list(np.arange(1,27, 5))#+list(np.arange(20,40,2))#+list(np.arange(40, 150, 10))\n",
    "\n",
    "plot_evolution('simplex_parents', 14, xaxis)"
   ]
  },
  {
   "cell_type": "code",
   "execution_count": 82,
   "metadata": {},
   "outputs": [],
   "source": [
    "\n",
    "def generate_children_mut_inf(connection_type, xaxis, graph_type = None, children_connection_type=None):\n",
    "    if children_connection_type is None:\n",
    "        PATH_TO_DIR = 'observations/motifs/'+connection_type+'/'\n",
    "    else:\n",
    "        PATH_TO_DIR = 'observations/motifs/'+connection_type+'/'\n",
    "    analyzs=[new_it_analyzer.IT_analyzer(PATH_TO_DIR+'type_{}_parents_{}_child_3_nb_neur_{}_sw_10_tbs_50_stim_off'.format(graph_type, i, i+3)) for i in xaxis]\n",
    "    children_mutual_inf=[np.mean([dit.shannon.mutual_information(d, [0], [1], rv_mode='indices') for d in analyz.dists]) for analyz in analyzs]\n",
    "    return children_mutual_inf\n",
    "\n",
    "#same but conditioned on parents\n",
    "def generate_children_cond_mut_inf(connection_type, xaxis, children_connection_type=None):\n",
    "    if children_connection_type is None:\n",
    "        PATH_TO_DIR = 'observations/mutual_information_and_common_parents/'+connection_type+'/'\n",
    "    else:\n",
    "        PATH_TO_DIR = 'observations/mutual_information_and_common_parents/'+connection_type+'_'+children_connection_type+'/'\n",
    "\n",
    "    analyzs=[new_it_analyzer.IT_analyzer(PATH_TO_DIR+'parents_{}_child_2_nb_neur_{}_sw_10_tbs_50_stim_off'.format(i, i+2)) for i in xaxis]\n",
    "    children_mutual_inf=[np.mean([dit.shannon.conditional_entropy(d, [0], range(2,analyz.nb_neurons), rv_mode='indices')-dit.shannon.conditional_entropy(d, [0], range(1, analyz.nb_neurons), rv_mode='indices') for d in analyz.dists]) for analyz in analyzs]\n",
    "    return children_mutual_inf\n",
    "\n",
    "def generate_child_entropy_siblings(connection_type, xaxis, children_connection_type=None):\n",
    "    if children_connection_type is None:\n",
    "        PATH_TO_DIR = 'observations/mutual_information_and_common_parents/'+connection_type+'/'\n",
    "    else: \n",
    "        PATH_TO_DIR = 'observations/mutual_information_and_common_parents/'+connection_type+'_'+children_connection_type+'/'\n",
    "\n",
    "    analyzs=[new_it_analyzer.IT_analyzer(PATH_TO_DIR+'parents_{}_child_2_nb_neur_{}_sw_10_tbs_50_stim_off'.format(i, i+2)) for i in xaxis]\n",
    "    child_entropy=[np.mean([dit.shannon.entropy(d, [0], rv_mode='indices') for d in analyz.dists]) for analyz in analyzs]\n",
    "    return child_entropy\n",
    "\n",
    "\n",
    "\n"
   ]
  },
  {
   "cell_type": "code",
   "execution_count": null,
   "metadata": {},
   "outputs": [],
   "source": []
  }
 ],
 "metadata": {
  "kernelspec": {
   "display_name": "Python 3",
   "language": "python",
   "name": "python3"
  },
  "language_info": {
   "codemirror_mode": {
    "name": "ipython",
    "version": 3
   },
   "file_extension": ".py",
   "mimetype": "text/x-python",
   "name": "python",
   "nbconvert_exporter": "python",
   "pygments_lexer": "ipython3",
   "version": "3.7.2"
  }
 },
 "nbformat": 4,
 "nbformat_minor": 4
}
